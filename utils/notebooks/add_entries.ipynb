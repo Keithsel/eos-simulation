{
 "cells": [
  {
   "cell_type": "code",
   "execution_count": null,
   "metadata": {},
   "outputs": [],
   "source": [
    "import pandas as pd\n",
    "import os\n",
    "import json\n",
    "\n",
    "this_path = '/path/to/this/directory'\n",
    "os.chdir(this_path)"
   ]
  },
  {
   "cell_type": "code",
   "execution_count": null,
   "metadata": {},
   "outputs": [
    {
     "data": {
      "text/html": [
       "<div>\n",
       "<style scoped>\n",
       "    .dataframe tbody tr th:only-of-type {\n",
       "        vertical-align: middle;\n",
       "    }\n",
       "\n",
       "    .dataframe tbody tr th {\n",
       "        vertical-align: top;\n",
       "    }\n",
       "\n",
       "    .dataframe thead th {\n",
       "        text-align: right;\n",
       "    }\n",
       "</style>\n",
       "<table border=\"1\" class=\"dataframe\">\n",
       "  <thead>\n",
       "    <tr style=\"text-align: right;\">\n",
       "      <th></th>\n",
       "      <th>question</th>\n",
       "      <th>choices</th>\n",
       "      <th>answer</th>\n",
       "    </tr>\n",
       "  </thead>\n",
       "  <tbody>\n",
       "    <tr>\n",
       "      <th>0</th>\n",
       "      <td>(True/False) Deep Learning is a subset of Mach...</td>\n",
       "      <td>['False', 'True']</td>\n",
       "      <td>['True']</td>\n",
       "    </tr>\n",
       "    <tr>\n",
       "      <th>1</th>\n",
       "      <td>(True/False) Machine Learning consists in prog...</td>\n",
       "      <td>['False', 'True']</td>\n",
       "      <td>['False']</td>\n",
       "    </tr>\n",
       "    <tr>\n",
       "      <th>2</th>\n",
       "      <td>(True/False) AI Winters happened mostly due to...</td>\n",
       "      <td>['True', 'False']</td>\n",
       "      <td>['True']</td>\n",
       "    </tr>\n",
       "    <tr>\n",
       "      <th>3</th>\n",
       "      <td>Most modern applications that use computer vis...</td>\n",
       "      <td>['Machine Learning', 'Artificial Intelligence'...</td>\n",
       "      <td>['Deep Learning']</td>\n",
       "    </tr>\n",
       "    <tr>\n",
       "      <th>4</th>\n",
       "      <td>In the Machine Learning Workflow, the main goa...</td>\n",
       "      <td>['Identify what data that is best suited to fi...</td>\n",
       "      <td>['Determine how to clean your data such that y...</td>\n",
       "    </tr>\n",
       "  </tbody>\n",
       "</table>\n",
       "</div>"
      ],
      "text/plain": [
       "                                            question  \\\n",
       "0  (True/False) Deep Learning is a subset of Mach...   \n",
       "1  (True/False) Machine Learning consists in prog...   \n",
       "2  (True/False) AI Winters happened mostly due to...   \n",
       "3  Most modern applications that use computer vis...   \n",
       "4  In the Machine Learning Workflow, the main goa...   \n",
       "\n",
       "                                             choices  \\\n",
       "0                                  ['False', 'True']   \n",
       "1                                  ['False', 'True']   \n",
       "2                                  ['True', 'False']   \n",
       "3  ['Machine Learning', 'Artificial Intelligence'...   \n",
       "4  ['Identify what data that is best suited to fi...   \n",
       "\n",
       "                                              answer  \n",
       "0                                           ['True']  \n",
       "1                                          ['False']  \n",
       "2                                           ['True']  \n",
       "3                                  ['Deep Learning']  \n",
       "4  ['Determine how to clean your data such that y...  "
      ]
     },
     "execution_count": 2,
     "metadata": {},
     "output_type": "execute_result"
    }
   ],
   "source": [
    "df = pd.read_csv(\"path/to/your/csv/file.csv\")\n",
    "df.columns = ['question', 'choices', 'answer']\n",
    "df.head()"
   ]
  },
  {
   "cell_type": "code",
   "execution_count": 109,
   "metadata": {},
   "outputs": [],
   "source": [
    "question = \"What are confidence intervals in statistical inference?\"\n",
    "choices = [\n",
    "    'Confidence intervals provide a range of values within which the true population parameter is likely to fall',\n",
    "    'Confidence intervals are used to measure the strength of association between two variables',\n",
    "    'Confidence intervals represent the probability that a hypothesis is true',\n",
    "    'Confidence intervals are only applicable to large sample sizes'\n",
    "]\n",
    "answer = ['Confidence intervals provide a range of values within which the true population parameter is likely to fall']\n"
   ]
  },
  {
   "cell_type": "code",
   "execution_count": 110,
   "metadata": {},
   "outputs": [
    {
     "data": {
      "text/html": [
       "<div>\n",
       "<style scoped>\n",
       "    .dataframe tbody tr th:only-of-type {\n",
       "        vertical-align: middle;\n",
       "    }\n",
       "\n",
       "    .dataframe tbody tr th {\n",
       "        vertical-align: top;\n",
       "    }\n",
       "\n",
       "    .dataframe thead th {\n",
       "        text-align: right;\n",
       "    }\n",
       "</style>\n",
       "<table border=\"1\" class=\"dataframe\">\n",
       "  <thead>\n",
       "    <tr style=\"text-align: right;\">\n",
       "      <th></th>\n",
       "      <th>question</th>\n",
       "      <th>choices</th>\n",
       "      <th>answer</th>\n",
       "    </tr>\n",
       "  </thead>\n",
       "  <tbody>\n",
       "    <tr>\n",
       "      <th>310</th>\n",
       "      <td>What are support vectors in the context of SVM?</td>\n",
       "      <td>[Data points that are difficult to classify, D...</td>\n",
       "      <td>[Data points that determine the position of th...</td>\n",
       "    </tr>\n",
       "    <tr>\n",
       "      <th>311</th>\n",
       "      <td>What does the hyperparameter 'alpha' control i...</td>\n",
       "      <td>[Overall strength of regularization, Balance b...</td>\n",
       "      <td>[Balance between L1 and L2 penalties]</td>\n",
       "    </tr>\n",
       "    <tr>\n",
       "      <th>312</th>\n",
       "      <td>How does the presence of outliers affect decis...</td>\n",
       "      <td>[Decision trees are robust to outliers and can...</td>\n",
       "      <td>[Decision trees may create biased models if ou...</td>\n",
       "    </tr>\n",
       "    <tr>\n",
       "      <th>313</th>\n",
       "      <td>What is the relationship between PCA and data ...</td>\n",
       "      <td>[PCA is insensitive to the scale of the data, ...</td>\n",
       "      <td>[PCA is influenced by the scale of the data, a...</td>\n",
       "    </tr>\n",
       "    <tr>\n",
       "      <th>314</th>\n",
       "      <td>What are confidence intervals in statistical i...</td>\n",
       "      <td>[Confidence intervals provide a range of value...</td>\n",
       "      <td>[Confidence intervals provide a range of value...</td>\n",
       "    </tr>\n",
       "  </tbody>\n",
       "</table>\n",
       "</div>"
      ],
      "text/plain": [
       "                                              question  \\\n",
       "310    What are support vectors in the context of SVM?   \n",
       "311  What does the hyperparameter 'alpha' control i...   \n",
       "312  How does the presence of outliers affect decis...   \n",
       "313  What is the relationship between PCA and data ...   \n",
       "314  What are confidence intervals in statistical i...   \n",
       "\n",
       "                                               choices  \\\n",
       "310  [Data points that are difficult to classify, D...   \n",
       "311  [Overall strength of regularization, Balance b...   \n",
       "312  [Decision trees are robust to outliers and can...   \n",
       "313  [PCA is insensitive to the scale of the data, ...   \n",
       "314  [Confidence intervals provide a range of value...   \n",
       "\n",
       "                                                answer  \n",
       "310  [Data points that determine the position of th...  \n",
       "311              [Balance between L1 and L2 penalties]  \n",
       "312  [Decision trees may create biased models if ou...  \n",
       "313  [PCA is influenced by the scale of the data, a...  \n",
       "314  [Confidence intervals provide a range of value...  "
      ]
     },
     "execution_count": 110,
     "metadata": {},
     "output_type": "execute_result"
    }
   ],
   "source": [
    "df.loc[len(df), df.columns] = question, choices, answer\n",
    "df.tail()"
   ]
  },
  {
   "cell_type": "code",
   "execution_count": null,
   "metadata": {},
   "outputs": [],
   "source": [
    "df.to_csv(\"path/to/your/csv/file.csv\", index=False)"
   ]
  }
 ],
 "metadata": {
  "kernelspec": {
   "display_name": "mock-exam",
   "language": "python",
   "name": "python3"
  },
  "language_info": {
   "codemirror_mode": {
    "name": "ipython",
    "version": 3
   },
   "file_extension": ".py",
   "mimetype": "text/x-python",
   "name": "python",
   "nbconvert_exporter": "python",
   "pygments_lexer": "ipython3",
   "version": "3.11.10"
  }
 },
 "nbformat": 4,
 "nbformat_minor": 2
}
